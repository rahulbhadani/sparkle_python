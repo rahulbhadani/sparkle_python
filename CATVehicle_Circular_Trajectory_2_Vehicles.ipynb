{
 "cells": [
  {
   "cell_type": "markdown",
   "metadata": {},
   "source": [
    "# CAT Vehicle circular trajectory simulation"
   ]
  },
  {
   "cell_type": "markdown",
   "metadata": {},
   "source": [
    "## import required libraries"
   ]
  },
  {
   "cell_type": "code",
   "execution_count": null,
   "metadata": {},
   "outputs": [],
   "source": [
    "import sparkle\n",
    "import os\n",
    "from sparkle import lane\n",
    "from sparkle import api\n",
    "from sparkle import catvehicle\n",
    "from sparkle import GZStats\n",
    "homedir = os.path.expanduser(\"~\")\n",
    "import uuid\n",
    "import glob\n",
    "import bagpy\n",
    "import pandas as pd\n",
    "import signal\n",
    "import  time"
   ]
  },
  {
   "cell_type": "markdown",
   "metadata": {},
   "source": [
    "## declare simulation parameters"
   ]
  },
  {
   "cell_type": "code",
   "execution_count": null,
   "metadata": {},
   "outputs": [],
   "source": [
    "datadir = homedir +\"/CyverseData/ProjectSparkle/RTFvsNVehicles\"\n",
    "n_vehicles = 2\n",
    "include_laser = False\n",
    "circumference = 230\n",
    "max_update_rate = 100.0 # for gazebo\n",
    "time_step = 0.01 # for gazebo\n",
    "leader_vel = 8.0\n",
    "log_time = 120\n",
    "unique_runid = str(uuid.uuid4())\n",
    "description = \"Circular Trajectory, Unique run ID = \" + unique_runid\n",
    "\n",
    "\n",
    "sim_config = {\"n_vehicles\":  n_vehicles, \n",
    "              \"include_laser\": include_laser, \n",
    "              \"circumference\": circumference,\n",
    "              \"max_update_rate\": max_update_rate, \n",
    "              \"time_step\": time_step, \n",
    "              \"leader_vel\": leader_vel,\n",
    "              \"log_time\": log_time, \n",
    "              \"description\": description,\n",
    "              \"package_name\": \"catvehicle\",\n",
    "              \"logdir\": datadir}"
   ]
  },
  {
   "cell_type": "code",
   "execution_count": null,
   "metadata": {},
   "outputs": [],
   "source": [
    "C = catvehicle(**sim_config)\n",
    "C.create()\n",
    "C.spawn()\n",
    "time.sleep(4)"
   ]
  },
  {
   "cell_type": "code",
   "execution_count": null,
   "metadata": {},
   "outputs": [],
   "source": [
    "C.control(leader_vel=leader_vel, logdir = datadir)\n",
    "C.rviz(C.package_path + \"/config/magna_multi.rviz\")\n",
    "time.sleep(log_time)\n",
    "C.destroy(signal.SIGINT)"
   ]
  },
  {
   "cell_type": "code",
   "execution_count": null,
   "metadata": {},
   "outputs": [],
   "source": [
    "bag = C.latesbag()\n",
    "gz_stat_file = C.gzstatsfile\n",
    "GZ = GZStats(gz_stat_file)\n",
    "GZ.dataframe.to_csv(gz_stat_file[0:-4]+\".csv\")"
   ]
  },
  {
   "cell_type": "code",
   "execution_count": null,
   "metadata": {},
   "outputs": [],
   "source": []
  }
 ],
 "metadata": {
  "kernelspec": {
   "display_name": "Python 2.7.17 64-bit",
   "language": "python",
   "name": "python271764bit0e5e6c9760df49c3aa2b6660ab1bff6d"
  },
  "language_info": {
   "codemirror_mode": {
    "name": "ipython",
    "version": 2
   },
   "file_extension": ".py",
   "mimetype": "text/x-python",
   "name": "python",
   "nbconvert_exporter": "python",
   "pygments_lexer": "ipython2",
   "version": "2.7.17"
  }
 },
 "nbformat": 4,
 "nbformat_minor": 2
}
